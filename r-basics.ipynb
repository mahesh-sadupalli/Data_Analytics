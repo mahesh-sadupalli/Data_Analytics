{
 "cells": [
  {
   "cell_type": "markdown",
   "id": "f87bcf26",
   "metadata": {
    "papermill": {
     "duration": 0.006217,
     "end_time": "2024-08-27T06:50:38.092171",
     "exception": false,
     "start_time": "2024-08-27T06:50:38.085954",
     "status": "completed"
    },
    "tags": []
   },
   "source": [
    "**This is a series of notebooks for data analysis using R as part of my learning expierence while working as a Werkstudent data analyst:**\\\n",
    "1)**R Basics** \\\n",
    "2) Data Visualisation \\\n",
    "3) Data transformation \\\n",
    "4) Data wrangling \\\n",
    "5) EDA"
   ]
  },
  {
   "cell_type": "markdown",
   "id": "b9098ee7",
   "metadata": {
    "papermill": {
     "duration": 0.005372,
     "end_time": "2024-08-27T06:50:38.103708",
     "exception": false,
     "start_time": "2024-08-27T06:50:38.098336",
     "status": "completed"
    },
    "tags": []
   },
   "source": [
    "Basic Math Calculations: \\\n",
    "Addition: + \\\n",
    "Substraction: -\\\n",
    "Multiplication: *\\\n",
    "division(Floating Point): / \n"
   ]
  },
  {
   "cell_type": "code",
   "execution_count": 1,
   "id": "0e164ab7",
   "metadata": {
    "execution": {
     "iopub.execute_input": "2024-08-27T06:50:38.119003Z",
     "iopub.status.busy": "2024-08-27T06:50:38.116686Z",
     "iopub.status.idle": "2024-08-27T06:50:38.266233Z",
     "shell.execute_reply": "2024-08-27T06:50:38.264236Z"
    },
    "papermill": {
     "duration": 0.159674,
     "end_time": "2024-08-27T06:50:38.268868",
     "exception": false,
     "start_time": "2024-08-27T06:50:38.109194",
     "status": "completed"
    },
    "tags": []
   },
   "outputs": [
    {
     "data": {
      "text/html": [
       "1"
      ],
      "text/latex": [
       "1"
      ],
      "text/markdown": [
       "1"
      ],
      "text/plain": [
       "[1] 1"
      ]
     },
     "metadata": {},
     "output_type": "display_data"
    }
   ],
   "source": [
    "sin(pi/2)"
   ]
  },
  {
   "cell_type": "markdown",
   "id": "3563745f",
   "metadata": {
    "papermill": {
     "duration": 0.005631,
     "end_time": "2024-08-27T06:50:38.280330",
     "exception": false,
     "start_time": "2024-08-27T06:50:38.274699",
     "status": "completed"
    },
    "tags": []
   },
   "source": [
    "Assignment Operator: <- \\\n",
    "We create new objects with the assignment operator \"<-\" \\\n",
    "Object names must start with a letter and can contain only letters, numbers, _, and ."
   ]
  },
  {
   "cell_type": "code",
   "execution_count": 2,
   "id": "3dcad304",
   "metadata": {
    "execution": {
     "iopub.execute_input": "2024-08-27T06:50:38.327524Z",
     "iopub.status.busy": "2024-08-27T06:50:38.293833Z",
     "iopub.status.idle": "2024-08-27T06:50:38.344250Z",
     "shell.execute_reply": "2024-08-27T06:50:38.342438Z"
    },
    "papermill": {
     "duration": 0.060918,
     "end_time": "2024-08-27T06:50:38.346870",
     "exception": false,
     "start_time": "2024-08-27T06:50:38.285952",
     "status": "completed"
    },
    "tags": []
   },
   "outputs": [],
   "source": [
    "x <- 3 * pi #It stores only but not be printed"
   ]
  },
  {
   "cell_type": "code",
   "execution_count": 3,
   "id": "b1b196d2",
   "metadata": {
    "execution": {
     "iopub.execute_input": "2024-08-27T06:50:38.361734Z",
     "iopub.status.busy": "2024-08-27T06:50:38.360192Z",
     "iopub.status.idle": "2024-08-27T06:50:38.375869Z",
     "shell.execute_reply": "2024-08-27T06:50:38.374236Z"
    },
    "papermill": {
     "duration": 0.025725,
     "end_time": "2024-08-27T06:50:38.378317",
     "exception": false,
     "start_time": "2024-08-27T06:50:38.352592",
     "status": "completed"
    },
    "tags": []
   },
   "outputs": [
    {
     "data": {
      "text/html": [
       "9.42477796076938"
      ],
      "text/latex": [
       "9.42477796076938"
      ],
      "text/markdown": [
       "9.42477796076938"
      ],
      "text/plain": [
       "[1] 9.424778"
      ]
     },
     "metadata": {},
     "output_type": "display_data"
    }
   ],
   "source": [
    "x"
   ]
  },
  {
   "cell_type": "markdown",
   "id": "2e5dcad7",
   "metadata": {
    "papermill": {
     "duration": 0.005949,
     "end_time": "2024-08-27T06:50:38.390279",
     "exception": false,
     "start_time": "2024-08-27T06:50:38.384330",
     "status": "completed"
    },
    "tags": []
   },
   "source": [
    "We can combine multiple elements into a vector with c():"
   ]
  },
  {
   "cell_type": "code",
   "execution_count": 4,
   "id": "0ba4d599",
   "metadata": {
    "execution": {
     "iopub.execute_input": "2024-08-27T06:50:38.405447Z",
     "iopub.status.busy": "2024-08-27T06:50:38.403784Z",
     "iopub.status.idle": "2024-08-27T06:50:38.422267Z",
     "shell.execute_reply": "2024-08-27T06:50:38.420527Z"
    },
    "papermill": {
     "duration": 0.028802,
     "end_time": "2024-08-27T06:50:38.424764",
     "exception": false,
     "start_time": "2024-08-27T06:50:38.395962",
     "status": "completed"
    },
    "tags": []
   },
   "outputs": [
    {
     "data": {
      "text/html": [
       "<style>\n",
       ".list-inline {list-style: none; margin:0; padding: 0}\n",
       ".list-inline>li {display: inline-block}\n",
       ".list-inline>li:not(:last-child)::after {content: \"\\00b7\"; padding: 0 .5ex}\n",
       "</style>\n",
       "<ol class=list-inline><li>2</li><li>3</li><li>5</li><li>7</li><li>11</li><li>13</li></ol>\n"
      ],
      "text/latex": [
       "\\begin{enumerate*}\n",
       "\\item 2\n",
       "\\item 3\n",
       "\\item 5\n",
       "\\item 7\n",
       "\\item 11\n",
       "\\item 13\n",
       "\\end{enumerate*}\n"
      ],
      "text/markdown": [
       "1. 2\n",
       "2. 3\n",
       "3. 5\n",
       "4. 7\n",
       "5. 11\n",
       "6. 13\n",
       "\n",
       "\n"
      ],
      "text/plain": [
       "[1]  2  3  5  7 11 13"
      ]
     },
     "metadata": {},
     "output_type": "display_data"
    }
   ],
   "source": [
    "primes <- c(2, 3, 5, 7, 11, 13)\n",
    "primes"
   ]
  },
  {
   "cell_type": "markdown",
   "id": "6680eb8e",
   "metadata": {
    "papermill": {
     "duration": 0.005837,
     "end_time": "2024-08-27T06:50:38.436720",
     "exception": false,
     "start_time": "2024-08-27T06:50:38.430883",
     "status": "completed"
    },
    "tags": []
   },
   "source": [
    "And we can perform basic arithmetic operations on vectors, which will be applied to each and every element inside\n"
   ]
  },
  {
   "cell_type": "code",
   "execution_count": 5,
   "id": "70c11cb2",
   "metadata": {
    "execution": {
     "iopub.execute_input": "2024-08-27T06:50:38.452554Z",
     "iopub.status.busy": "2024-08-27T06:50:38.450896Z",
     "iopub.status.idle": "2024-08-27T06:50:38.467346Z",
     "shell.execute_reply": "2024-08-27T06:50:38.465613Z"
    },
    "papermill": {
     "duration": 0.027381,
     "end_time": "2024-08-27T06:50:38.470183",
     "exception": false,
     "start_time": "2024-08-27T06:50:38.442802",
     "status": "completed"
    },
    "tags": []
   },
   "outputs": [
    {
     "data": {
      "text/html": [
       "<style>\n",
       ".list-inline {list-style: none; margin:0; padding: 0}\n",
       ".list-inline>li {display: inline-block}\n",
       ".list-inline>li:not(:last-child)::after {content: \"\\00b7\"; padding: 0 .5ex}\n",
       "</style>\n",
       "<ol class=list-inline><li>4</li><li>6</li><li>10</li><li>14</li><li>22</li><li>26</li></ol>\n"
      ],
      "text/latex": [
       "\\begin{enumerate*}\n",
       "\\item 4\n",
       "\\item 6\n",
       "\\item 10\n",
       "\\item 14\n",
       "\\item 22\n",
       "\\item 26\n",
       "\\end{enumerate*}\n"
      ],
      "text/markdown": [
       "1. 4\n",
       "2. 6\n",
       "3. 10\n",
       "4. 14\n",
       "5. 22\n",
       "6. 26\n",
       "\n",
       "\n"
      ],
      "text/plain": [
       "[1]  4  6 10 14 22 26"
      ]
     },
     "metadata": {},
     "output_type": "display_data"
    }
   ],
   "source": [
    "primes * 2"
   ]
  },
  {
   "cell_type": "code",
   "execution_count": 6,
   "id": "73bdc8b3",
   "metadata": {
    "execution": {
     "iopub.execute_input": "2024-08-27T06:50:38.486533Z",
     "iopub.status.busy": "2024-08-27T06:50:38.484920Z",
     "iopub.status.idle": "2024-08-27T06:50:38.504877Z",
     "shell.execute_reply": "2024-08-27T06:50:38.503154Z"
    },
    "papermill": {
     "duration": 0.031003,
     "end_time": "2024-08-27T06:50:38.507521",
     "exception": false,
     "start_time": "2024-08-27T06:50:38.476518",
     "status": "completed"
    },
    "tags": []
   },
   "outputs": [
    {
     "data": {
      "text/html": [
       "<style>\n",
       ".list-inline {list-style: none; margin:0; padding: 0}\n",
       ".list-inline>li {display: inline-block}\n",
       ".list-inline>li:not(:last-child)::after {content: \"\\00b7\"; padding: 0 .5ex}\n",
       "</style>\n",
       "<ol class=list-inline><li>0</li><li>1</li><li>3</li><li>5</li><li>9</li><li>11</li></ol>\n"
      ],
      "text/latex": [
       "\\begin{enumerate*}\n",
       "\\item 0\n",
       "\\item 1\n",
       "\\item 3\n",
       "\\item 5\n",
       "\\item 9\n",
       "\\item 11\n",
       "\\end{enumerate*}\n"
      ],
      "text/markdown": [
       "1. 0\n",
       "2. 1\n",
       "3. 3\n",
       "4. 5\n",
       "5. 9\n",
       "6. 11\n",
       "\n",
       "\n"
      ],
      "text/plain": [
       "[1]  0  1  3  5  9 11"
      ]
     },
     "metadata": {},
     "output_type": "display_data"
    }
   ],
   "source": [
    "primes - 2"
   ]
  },
  {
   "cell_type": "code",
   "execution_count": 7,
   "id": "088935b1",
   "metadata": {
    "execution": {
     "iopub.execute_input": "2024-08-27T06:50:38.524762Z",
     "iopub.status.busy": "2024-08-27T06:50:38.523070Z",
     "iopub.status.idle": "2024-08-27T06:50:38.540030Z",
     "shell.execute_reply": "2024-08-27T06:50:38.538263Z"
    },
    "papermill": {
     "duration": 0.028254,
     "end_time": "2024-08-27T06:50:38.542477",
     "exception": false,
     "start_time": "2024-08-27T06:50:38.514223",
     "status": "completed"
    },
    "tags": []
   },
   "outputs": [
    {
     "data": {
      "text/html": [
       "<style>\n",
       ".list-inline {list-style: none; margin:0; padding: 0}\n",
       ".list-inline>li {display: inline-block}\n",
       ".list-inline>li:not(:last-child)::after {content: \"\\00b7\"; padding: 0 .5ex}\n",
       "</style>\n",
       "<ol class=list-inline><li>1</li><li>1.5</li><li>2.5</li><li>3.5</li><li>5.5</li><li>6.5</li></ol>\n"
      ],
      "text/latex": [
       "\\begin{enumerate*}\n",
       "\\item 1\n",
       "\\item 1.5\n",
       "\\item 2.5\n",
       "\\item 3.5\n",
       "\\item 5.5\n",
       "\\item 6.5\n",
       "\\end{enumerate*}\n"
      ],
      "text/markdown": [
       "1. 1\n",
       "2. 1.5\n",
       "3. 2.5\n",
       "4. 3.5\n",
       "5. 5.5\n",
       "6. 6.5\n",
       "\n",
       "\n"
      ],
      "text/plain": [
       "[1] 1.0 1.5 2.5 3.5 5.5 6.5"
      ]
     },
     "metadata": {},
     "output_type": "display_data"
    }
   ],
   "source": [
    "primes / 2"
   ]
  },
  {
   "cell_type": "code",
   "execution_count": 8,
   "id": "b6cd76c1",
   "metadata": {
    "execution": {
     "iopub.execute_input": "2024-08-27T06:50:38.561738Z",
     "iopub.status.busy": "2024-08-27T06:50:38.559949Z",
     "iopub.status.idle": "2024-08-27T06:50:38.575030Z",
     "shell.execute_reply": "2024-08-27T06:50:38.573105Z"
    },
    "papermill": {
     "duration": 0.028421,
     "end_time": "2024-08-27T06:50:38.578226",
     "exception": false,
     "start_time": "2024-08-27T06:50:38.549805",
     "status": "completed"
    },
    "tags": []
   },
   "outputs": [],
   "source": [
    "r_rocks <- 2^3"
   ]
  },
  {
   "cell_type": "code",
   "execution_count": 9,
   "id": "0e819afd",
   "metadata": {
    "execution": {
     "iopub.execute_input": "2024-08-27T06:50:38.595763Z",
     "iopub.status.busy": "2024-08-27T06:50:38.594050Z",
     "iopub.status.idle": "2024-08-27T06:50:38.612694Z",
     "shell.execute_reply": "2024-08-27T06:50:38.610756Z"
    },
    "papermill": {
     "duration": 0.030685,
     "end_time": "2024-08-27T06:50:38.615805",
     "exception": true,
     "start_time": "2024-08-27T06:50:38.585120",
     "status": "failed"
    },
    "tags": []
   },
   "outputs": [
    {
     "ename": "ERROR",
     "evalue": "Error in eval(expr, envir, enclos): object 'R_rocks' not found\n",
     "output_type": "error",
     "traceback": [
      "Error in eval(expr, envir, enclos): object 'R_rocks' not found\nTraceback:\n"
     ]
    }
   ],
   "source": [
    "R_rocks #object names are case senstive "
   ]
  },
  {
   "cell_type": "markdown",
   "id": "39026550",
   "metadata": {
    "papermill": {
     "duration": null,
     "end_time": null,
     "exception": null,
     "start_time": null,
     "status": "pending"
    },
    "tags": []
   },
   "source": [
    "**Functions** \\\n",
    "R has a large collection of built-in functions that can be called with syntax: \\\n",
    "function_name(argument1 = value1, argument2 = value2, ...)"
   ]
  },
  {
   "cell_type": "code",
   "execution_count": null,
   "id": "f3baba01",
   "metadata": {
    "execution": {
     "iopub.execute_input": "2024-08-27T06:35:16.298499Z",
     "iopub.status.busy": "2024-08-27T06:35:16.296532Z",
     "iopub.status.idle": "2024-08-27T06:35:16.315628Z"
    },
    "papermill": {
     "duration": null,
     "end_time": null,
     "exception": null,
     "start_time": null,
     "status": "pending"
    },
    "tags": []
   },
   "outputs": [],
   "source": [
    "seq(from = 1, to = 10)"
   ]
  },
  {
   "cell_type": "code",
   "execution_count": null,
   "id": "4053b166",
   "metadata": {
    "execution": {
     "iopub.execute_input": "2024-08-27T06:35:27.360831Z",
     "iopub.status.busy": "2024-08-27T06:35:27.358967Z",
     "iopub.status.idle": "2024-08-27T06:35:27.377237Z"
    },
    "papermill": {
     "duration": null,
     "end_time": null,
     "exception": null,
     "start_time": null,
     "status": "pending"
    },
    "tags": []
   },
   "outputs": [],
   "source": [
    "seq(1, 10)"
   ]
  },
  {
   "cell_type": "markdown",
   "id": "35dc201a",
   "metadata": {
    "papermill": {
     "duration": null,
     "end_time": null,
     "exception": null,
     "start_time": null,
     "status": "pending"
    },
    "tags": []
   },
   "source": [
    "R helps us with \"+\" \\\n",
    "\"+\" tells you that R is waiting for more input. Usually, this means you’ve forgotten either a \" or a )"
   ]
  },
  {
   "cell_type": "markdown",
   "id": "b483a5f8",
   "metadata": {
    "papermill": {
     "duration": null,
     "end_time": null,
     "exception": null,
     "start_time": null,
     "status": "pending"
    },
    "tags": []
   },
   "source": [
    "**References:\\\n",
    "R for data science: Garrett Grolemund, Hadley Wickham, and Mine Çetinkaya-Rundel\\\n",
    "Hands-On Programming with R: Garrett Grolemund**\n"
   ]
  }
 ],
 "metadata": {
  "kaggle": {
   "accelerator": "none",
   "dataSources": [],
   "dockerImageVersionId": 30749,
   "isGpuEnabled": false,
   "isInternetEnabled": true,
   "language": "r",
   "sourceType": "notebook"
  },
  "kernelspec": {
   "display_name": "R",
   "language": "R",
   "name": "ir"
  },
  "language_info": {
   "codemirror_mode": "r",
   "file_extension": ".r",
   "mimetype": "text/x-r-source",
   "name": "R",
   "pygments_lexer": "r",
   "version": "4.4.0"
  },
  "papermill": {
   "default_parameters": {},
   "duration": 3.7805,
   "end_time": "2024-08-27T06:50:38.745066",
   "environment_variables": {},
   "exception": true,
   "input_path": "__notebook__.ipynb",
   "output_path": "__notebook__.ipynb",
   "parameters": {},
   "start_time": "2024-08-27T06:50:34.964566",
   "version": "2.6.0"
  }
 },
 "nbformat": 4,
 "nbformat_minor": 5
}
